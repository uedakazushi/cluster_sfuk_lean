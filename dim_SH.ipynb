{
 "cells": [
  {
   "cell_type": "markdown",
   "id": "7999517d",
   "metadata": {},
   "source": [
    "# After Adaloglou--Pasquotto--Zanardini"
   ]
  },
  {
   "cell_type": "code",
   "execution_count": 1,
   "id": "a4bb75ce",
   "metadata": {},
   "outputs": [],
   "source": [
    "def APZ_dim_SH(e,f,k):\n",
    "    q = e*(1-k) % (e+f)\n",
    "    if (q==0) or (q==e+f-1):\n",
    "        return gcd(e,f)-1\n",
    "    elif (1 <= q) and (q <= min(e,f)):\n",
    "        return q-1\n",
    "    else:\n",
    "        return min(e,f)-1\n",
    "def APZ_dim_SH_list(e,f,kmax):\n",
    "    return [APZ_dim_SH(e,f,-k) for k in [0..kmax]]"
   ]
  },
  {
   "cell_type": "markdown",
   "id": "b1cff1eb",
   "metadata": {},
   "source": [
    "# After cluster_sfuk"
   ]
  },
  {
   "cell_type": "code",
   "execution_count": 2,
   "id": "77111f30",
   "metadata": {},
   "outputs": [],
   "source": [
    "def SH_list1(e,f,b0max):\n",
    "    T=[]\n",
    "    for b0 in [0..b0max]:\n",
    "        b1=b0%e\n",
    "        m1=b0//e\n",
    "        b2=b0%f\n",
    "        m2=b0//f\n",
    "        if (b1<e-1) and (b2<f-1):\n",
    "            T.append([-m1-m2,b0,b1,b2,m1,m2])\n",
    "    return T\n",
    "def SH_list2(e,f,b0max):\n",
    "    T=[]\n",
    "    for b0 in [0..b0max]:\n",
    "        if ((b0+1)%e==0) and ((b0+1)%f==0):\n",
    "            n1=(b0+1)//e\n",
    "            n2=(b0+1)//f\n",
    "            for i in [0..(gcd(e,f)-2)]:\n",
    "                T.append([-n1-n2+1,b0,n1,n2])\n",
    "    return T\n",
    "def SH_list(e,f,b0max):\n",
    "    return SH_list1(e,f,b0max)+SH_list2(e,f,b0max)\n",
    "def first_elements(list_of_lists):\n",
    "    return [lst[0] for lst in list_of_lists]\n",
    "def dim_SH_list(e,f,kmax):\n",
    "    shlist=first_elements(SH_list(e,f,max(e,f)*kmax+200))\n",
    "    return [shlist.count(-k) for k in [0..kmax]]\n",
    "def SH_sublist1(e,f,k):\n",
    "    T=SH_list1(e,f,(e+f)*(-k+1)+200)\n",
    "    return [l[1] for l in T if l[0]==k]\n",
    "def SH_sublist2(e,f,k):\n",
    "    T=SH_list2(e,f,(e+f)*(-k+1)+200)\n",
    "    return [l[1] for l in T if l[0]==k]"
   ]
  },
  {
   "cell_type": "markdown",
   "id": "6659a91c",
   "metadata": {},
   "source": [
    "# Comparison"
   ]
  },
  {
   "cell_type": "code",
   "execution_count": 3,
   "id": "3d7db0e2",
   "metadata": {
    "scrolled": true
   },
   "outputs": [
    {
     "data": {
      "text/plain": [
       "[2, 1, 0, 2, 0, 1, 2, 0, 2, 1, 0, 2, 0, 1, 2, 0, 2, 1, 0, 2, 0]"
      ]
     },
     "execution_count": 3,
     "metadata": {},
     "output_type": "execute_result"
    }
   ],
   "source": [
    "dim_SH_list(3,5,20)"
   ]
  },
  {
   "cell_type": "code",
   "execution_count": 4,
   "id": "68ebc01b",
   "metadata": {},
   "outputs": [
    {
     "data": {
      "text/plain": [
       "[2, 2, 0, 2, 0, 1, 2, 0, 2, 2, 0, 2, 0, 1, 2, 0, 2, 2, 0, 2, 0]"
      ]
     },
     "execution_count": 4,
     "metadata": {},
     "output_type": "execute_result"
    }
   ],
   "source": [
    "APZ_dim_SH_list(3,5,20)"
   ]
  }
 ],
 "metadata": {
  "kernelspec": {
   "display_name": "SageMath 10.2",
   "language": "sage",
   "name": "sagemath"
  },
  "language_info": {
   "codemirror_mode": {
    "name": "ipython",
    "version": 3
   },
   "file_extension": ".py",
   "mimetype": "text/x-python",
   "name": "python",
   "nbconvert_exporter": "python",
   "pygments_lexer": "ipython3",
   "version": "3.11.1"
  }
 },
 "nbformat": 4,
 "nbformat_minor": 5
}
